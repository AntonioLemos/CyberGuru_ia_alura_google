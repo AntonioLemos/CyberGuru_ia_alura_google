{
  "nbformat": 4,
  "nbformat_minor": 0,
  "metadata": {
    "colab": {
      "provenance": [],
      "authorship_tag": "ABX9TyOY5+jT4WSEV92UbhurjB8c",
      "include_colab_link": true
    },
    "kernelspec": {
      "name": "python3",
      "display_name": "Python 3"
    },
    "language_info": {
      "name": "python"
    }
  },
  "cells": [
    {
      "cell_type": "markdown",
      "metadata": {
        "id": "view-in-github",
        "colab_type": "text"
      },
      "source": [
        "<a href=\"https://colab.research.google.com/github/AntonioLemos/CyberGuru_ia_alura_google/blob/main/Untitled0.ipynb\" target=\"_parent\"><img src=\"https://colab.research.google.com/assets/colab-badge.svg\" alt=\"Open In Colab\"/></a>"
      ]
    },
    {
      "cell_type": "code",
      "execution_count": null,
      "metadata": {
        "id": "mJ5wzfXYdwbw"
      },
      "outputs": [],
      "source": [
        "!pip install -q -U google-generativeai"
      ]
    },
    {
      "cell_type": "code",
      "source": [
        "!pip install nltk"
      ],
      "metadata": {
        "colab": {
          "base_uri": "https://localhost:8080/"
        },
        "id": "olbLlqE7ogi3",
        "outputId": "1e98ce66-8feb-4e5e-ff4c-7f429fc81133"
      },
      "execution_count": null,
      "outputs": [
        {
          "output_type": "stream",
          "name": "stdout",
          "text": [
            "Requirement already satisfied: nltk in /usr/local/lib/python3.10/dist-packages (3.8.1)\n",
            "Requirement already satisfied: click in /usr/local/lib/python3.10/dist-packages (from nltk) (8.1.7)\n",
            "Requirement already satisfied: joblib in /usr/local/lib/python3.10/dist-packages (from nltk) (1.4.2)\n",
            "Requirement already satisfied: regex>=2021.8.3 in /usr/local/lib/python3.10/dist-packages (from nltk) (2023.12.25)\n",
            "Requirement already satisfied: tqdm in /usr/local/lib/python3.10/dist-packages (from nltk) (4.66.4)\n"
          ]
        }
      ]
    },
    {
      "cell_type": "code",
      "source": [
        "import nltk\n",
        "nltk.download('punkt')\n",
        "nltk.download('wordnet')"
      ],
      "metadata": {
        "colab": {
          "base_uri": "https://localhost:8080/"
        },
        "id": "F6tGWnKDoquI",
        "outputId": "2fbefa66-e718-4fae-e330-a8f400d2e560"
      },
      "execution_count": null,
      "outputs": [
        {
          "output_type": "stream",
          "name": "stderr",
          "text": [
            "[nltk_data] Downloading package punkt to /root/nltk_data...\n",
            "[nltk_data]   Unzipping tokenizers/punkt.zip.\n",
            "[nltk_data] Downloading package wordnet to /root/nltk_data...\n"
          ]
        },
        {
          "output_type": "execute_result",
          "data": {
            "text/plain": [
              "True"
            ]
          },
          "metadata": {},
          "execution_count": 15
        }
      ]
    },
    {
      "cell_type": "code",
      "source": [
        "import google.generativeai as genai\n",
        "from google.colab import userdata\n",
        "api_key = userdata.get(\"secret-key\")\n",
        "genai.configure(api_key=api_key)"
      ],
      "metadata": {
        "id": "XnDUhiw4eJ5y"
      },
      "execution_count": 1,
      "outputs": []
    },
    {
      "cell_type": "code",
      "source": [
        "generation_config = {\n",
        "    \"candidate_count\": 1,\n",
        "    \"temperature\": 0.5\n",
        "}"
      ],
      "metadata": {
        "id": "_NoYi4OmeQTe"
      },
      "execution_count": null,
      "outputs": []
    },
    {
      "cell_type": "code",
      "source": [
        "safety_settings = {\n",
        "    \"HARASSMENT\": \"BLOCK_NONE\",\n",
        "    \"HATE\":  \"BLOCK_NONE\",\n",
        "    \"SEXUAL\": \"BLOCK_NONE\",\n",
        "    \"DANGEROUS\": \"BLOCK_NONE\"\n",
        "}"
      ],
      "metadata": {
        "id": "CS24kKVmfGAg"
      },
      "execution_count": null,
      "outputs": []
    },
    {
      "cell_type": "code",
      "source": [
        "model = genai.GenerativeModel(model_name=\"gemini-1.0-pro\",\n",
        "                              generation_config=generation_config,\n",
        "                              safety_settings=safety_settings\n",
        "                              )"
      ],
      "metadata": {
        "id": "OiMl9GXWffc-"
      },
      "execution_count": null,
      "outputs": []
    },
    {
      "cell_type": "code",
      "source": [
        "chat = model.start_chat(history=[])"
      ],
      "metadata": {
        "id": "R-yQ6YpWg3Q6"
      },
      "execution_count": null,
      "outputs": []
    },
    {
      "cell_type": "code",
      "source": [
        "from nltk.corpus import wordnet\n",
        "def ciberseguranca_qa(pergunta):\n",
        "  \"\"\"\n",
        "  Este chatbot funciona como um sistema de perguntas e respostas simples. Ele possui um conjunto de perguntas e respostas sobre segurança cibernética armazenadas em um dicionário. Quando o usuário faz uma pergunta, o chatbot procura por uma correspondência na sua base de conhecimento. Se encontrar uma pergunta similar, ele retorna a resposta associada. Caso contrário, ele informa que não sabe a resposta.\n",
        "\n",
        "  Args:\n",
        "    pergunta: A pergunta do usuário, como uma string de texto.\n",
        "\n",
        "  Returns:\n",
        "    Uma string contendo a resposta do chatbot para a pergunta do usuário.\n",
        "\n",
        "  Exemplos de perguntas:\n",
        "    \"O que é phishing?\"\n",
        "    \"Como escolho uma senha forte?\"\n",
        "    \"É seguro usar Wi-Fi público?\"\n",
        "    \"O que é um ataque DDoS?\"\n",
        "    \"Por que preciso fazer backup dos meus arquivos?\"\n",
        "  \"\"\"\n",
        "\n",
        "  base_de_conhecimento = {\n",
        "    \"O que é uma senha forte?\": \"Uma senha forte é como uma fechadura super segura para suas contas online. Ela mistura letras maiúsculas, minúsculas, números e símbolos, e tem pelo menos 12 caracteres. Exemplo: 'T&*g7R#a9$%s!'\",\n",
        "    \"Por que não posso usar a mesma senha em vários lugares?\": \"Imagine se você usasse a mesma chave para sua casa, carro e trabalho. Se alguém copiasse a chave, teria acesso a tudo! Usar a mesma senha em vários lugares é arriscado.\",\n",
        "    \"O que é autenticação de dois fatores?\": \"É como ter um segurança extra para suas contas! Além da senha, você precisa digitar um código que é enviado para seu celular ou email. Assim, mesmo que alguém descubra sua senha, ainda não consegue entrar.\",\n",
        "    \"Como escolho uma senha forte e fácil de lembrar?\": \"Use uma frase que você goste e transforme em senha. Exemplo: 'Eu amo pizza!' vira 'Eu@m0p!zza!'.\",\n",
        "    \"Devo anotar minhas senhas?\": \"Anotar senhas é arriscado, pois alguém pode encontrá-las. Use um gerenciador de senhas, um programa que guarda suas senhas de forma segura.\",\n",
        "    \"O que é phishing?\": \"É como um pescador que usa iscas falsas para pegar peixes. Os golpistas usam emails ou sites falsos que parecem reais para enganar você e roubar suas informações.\",\n",
        "    \"Como identifico um email de phishing?\": \"Emails de phishing geralmente têm erros de português, pedem informações pessoais ou urgência para clicar em links suspeitos.\",\n",
        "    \"Recebi um email do meu banco pedindo meus dados. Devo responder?\": \"Bancos nunca pedem seus dados por email! Entre em contato com o banco diretamente pelo telefone ou site oficial para confirmar.\",\n",
        "    \"Cliquei em um link suspeito, e agora?\": \"Se você acha que clicou em um link de phishing, mude suas senhas imediatamente, avise seu banco, se for o caso,  e rode um antivírus no seu computador.\",\n",
        "    \"Como me protejo de golpes online?\": \"Desconfie de ofertas boas demais para ser verdade, verifique cuidadosamente os links antes de clicar, e mantenha seus softwares atualizados.\",\n",
        "    \"O que significa HTTPS?\": \"É como um cadeado que protege suas informações enquanto você navega na internet. Sites com HTTPS são mais seguros para compras e transações online.\",\n",
        "    \"É seguro usar Wi-Fi público?\": \"Wi-Fi público, como em cafés e aeroportos, pode ser arriscado, pois outras pessoas podem ver suas informações. Use uma VPN, que é como um túnel secreto que protege sua conexão.\",\n",
        "    \"O que é uma VPN?\": \"Uma VPN criptografa sua conexão com a internet, tornando suas informações ilegíveis para bisbilhoteiros. É como se você estivesse enviando uma carta secreta em código!\",\n",
        "    \"Que cuidados devo ter ao usar redes sociais?\": \"Não compartilhe informações pessoais demais, ajuste suas configurações de privacidade e desconfie de pedidos de amizade de desconhecidos.\",\n",
        "    \"Posso confiar em todos os links e arquivos que recebo?\": \"Nem todos os links e arquivos são seguros. Só baixe arquivos de sites confiáveis e não clique em links suspeitos, principalmente de desconhecidos.\",\n",
        "    \"Por que preciso atualizar meu celular e computador?\": \"Atualizações corrigem erros e falhas de segurança, deixando seus aparelhos mais protegidos contra vírus e hackers.\",\n",
        "    \"O que é um antivírus?\": \"Um antivírus é como um guarda-costas para seu computador, protegendo contra vírus, malware e outras ameaças digitais.\",\n",
        "    \"Como escolho um bom antivírus?\": \"Pesquise em sites confiáveis e escolha um antivírus que seja bem avaliado e atualizado com frequência.\",\n",
        "    \"O que é um firewall?\": \"Um firewall é como um muro que protege seu computador contra acessos indesejados da internet.\",\n",
        "    \"Perdi meu celular, o que devo fazer?\": \"Bloqueie seu celular remotamente, se possível, e mude suas senhas de contas que estavam acessíveis no aparelho. É importante ter um código de acesso no celular!\",\n",
        "    \"Por que preciso fazer backup dos meus arquivos?\": \"Imagine se seu computador quebrasse de repente. Fazer backup é como ter uma cópia extra dos seus arquivos, protegendo suas fotos, documentos, etc.\",\n",
        "    \"Onde posso fazer backup dos meus arquivos?\": \"Você pode usar um HD externo, pen drive, ou serviços de armazenamento em nuvem, como Google Drive ou Dropbox.\",\n",
        "    \"O que é ransomware?\": \"Ransomware é um tipo de vírus que sequestra seus arquivos e pede dinheiro para devolvê-los. É como um sequestro digital!\",\n",
        "    \"Como me protejo de ransomware?\": \"Faça backup dos seus arquivos regularmente, desconfie de links e anexos suspeitos, e use um bom antivírus.\",\n",
        "    \"Fui vítima de ransomware, o que devo fazer?\": \"Não pague o resgate! Isole o computador infectado, denuncie o crime à polícia e procure ajuda de um especialista em segurança.\",\n",
        "    \"O que é malware?\": \"Malware é um software malicioso que pode danificar seu computador ou roubar suas informações. É como um vírus, mas pode ter diferentes formas e funções.\",\n",
        "    \"Como posso saber se meu computador está infectado com malware?\": \"Sinais de infecção por malware incluem lentidão no computador, pop-ups frequentes, alterações inexplicáveis nas configurações do sistema e programas desconhecidos em execução.\",\n",
        "    \"Como posso remover malware do meu computador?\": \"Use um antivírus confiável para escanear e remover malware. Em casos graves, pode ser necessário formatar o computador.\",\n",
        "    \"O que é engenharia social?\": \"Engenharia social é uma técnica usada por golpistas para manipular pessoas e fazê-las revelar informações confidenciais. Eles podem se passar por outras pessoas, apelar para emoções ou usar truques psicológicos.\",\n",
        "    \"Como posso me proteger da engenharia social?\": \"Seja cético em relação a solicitações de informações pessoais, verifique a identidade das pessoas antes de compartilhar dados confidenciais e não tenha medo de dizer não.\",\n",
        "    \"O que é criptografia?\": \"Criptografia é como um código secreto que protege suas informações. Ela transforma seus dados em um formato ilegível para qualquer pessoa que não tenha a chave para decifrá-los.\",\n",
        "    \"Por que a criptografia é importante?\": \"Criptografia protege suas informações confidenciais, como senhas, dados bancários e conversas privadas, contra acesso não autorizado.\",\n",
        "    \"Onde a criptografia é usada?\": \"Criptografia é usada em muitos lugares, como em sites seguros (HTTPS), em aplicativos de mensagens, em redes Wi-Fi protegidas e em armazenamento de dados em nuvem.\",\n",
        "    \"O que são cookies?\": \"Cookies são pequenos arquivos que sites armazenam em seu computador para lembrar suas preferências e atividades. Eles podem ser usados para rastrear seu comportamento online.\",\n",
        "    \"Os cookies são perigosos?\": \"Alguns cookies são úteis, como aqueles que armazenam suas informações de login, mas outros podem ser usados para rastrear seu comportamento online e exibir anúncios personalizados. Você pode controlar as configurações de cookies no seu navegador.\",\n",
        "    \"O que é um ataque DDoS?\": \"Um ataque DDoS (Distributed Denial of Service) é como um engarrafamento digital. Ele sobrecarrega um site ou servidor com tráfego, impedindo que usuários legítimos acessem o serviço.\",\n",
        "    \"Como os ataques DDoS acontecem?\": \"Ataques DDoS são realizados usando uma rede de computadores infectados por malware para enviar uma enxurrada de tráfego para o alvo.\",\n",
        "    \"Quem realiza ataques DDoS?\": \"Ataques DDoS podem ser realizados por hackers, grupos ativistas, concorrentes comerciais ou qualquer pessoa com intenção maliciosa.\",\n",
        "    \"O que é biometria?\": \"Biometria é uma tecnologia que usa características biológicas únicas, como impressões digitais, reconhecimento facial ou escaneamento de íris, para identificar e autenticar pessoas.\",\n",
        "    \"A biometria é segura?\": \"A biometria é geralmente considerada segura, mas há preocupações com privacidade e a possibilidade de dados biométricos serem comprometidos.\",\n",
        "    \"Onde a biometria é usada?\": \"A biometria é usada para desbloquear smartphones, acessar edifícios, realizar pagamentos e em outras aplicações de segurança.\",\n",
        "    \"O que é segurança da informação?\": \"Segurança da informação é um conjunto de práticas e tecnologias para proteger informações confidenciais contra acesso não autorizado, uso indevido, divulgação, interrupção, modificação ou destruição.\",\n",
        "    \"Por que a segurança da informação é importante?\": \"A segurança da informação é essencial para proteger dados confidenciais, preservar a privacidade, garantir a continuidade dos negócios e manter a confiança dos clientes.\"\n",
        "  }\n",
        "\n",
        "  for chave in base_de_conhecimento:\n",
        "      if pergunta.lower() in chave.lower():\n",
        "          print(\"Pergunta: \", chave)\n",
        "          return base_de_conhecimento[chave]\n",
        "\n",
        "  return \"Desculpe, não sei a resposta para essa pergunta.\"\n",
        "\n",
        "prompt = input(\"Esperando o prompt: \")\n",
        "while prompt != \"sair\":\n",
        "  response = ciberseguranca_qa(prompt)\n",
        "  print(\"Resposta: \", response, \"\\n\")\n",
        "  prompt = input(\"Esperando o prompt (DIGITE 'sair' PARA SAIR): \")\n",
        "\n",
        "print(\"Chatbot encerrado.\")\n"
      ],
      "metadata": {
        "colab": {
          "base_uri": "https://localhost:8080/"
        },
        "id": "-Jk8gdAkhWFZ",
        "outputId": "c585a75e-99bf-4f1b-f645-3ad40f3acb2f"
      },
      "execution_count": null,
      "outputs": [
        {
          "output_type": "stream",
          "name": "stdout",
          "text": [
            "Esperando o prompt: asair\n",
            "Resposta:  Desculpe, não sei a resposta para essa pergunta. \n",
            "\n",
            "Esperando o prompt (DIGITE 'sair' PARA SAIR): ataques\n",
            "Pergunta:  Como os ataques DDoS acontecem?\n",
            "Resposta:  Ataques DDoS são realizados usando uma rede de computadores infectados por malware para enviar uma enxurrada de tráfego para o alvo. \n",
            "\n",
            "Esperando o prompt (DIGITE 'sair' PARA SAIR): sair\n",
            "Chatbot encerrado.\n"
          ]
        }
      ]
    }
  ]
}